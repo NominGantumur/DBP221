{
 "cells": [
  {
   "cell_type": "code",
   "execution_count": 5,
   "id": "f59f2c24",
   "metadata": {},
   "outputs": [
    {
     "name": "stdout",
     "output_type": "stream",
     "text": [
      "Yes\n"
     ]
    }
   ],
   "source": [
    "#1\n",
    "x = \"naran\"\n",
    " \n",
    "y = \"\"\n",
    "for i in x:\n",
    "    y = i + y\n",
    " \n",
    "if (x == y):\n",
    "    print(\"Yes\")\n",
    "else:\n",
    "    print(\"No\")"
   ]
  },
  {
   "cell_type": "code",
   "execution_count": 6,
   "id": "f7c88cab",
   "metadata": {},
   "outputs": [
    {
     "name": "stdout",
     "output_type": "stream",
     "text": [
      "Lower case characters = 26 Upper case characters = 4\n"
     ]
    }
   ],
   "source": [
    "#2\n",
    "def upperlower(string):\n",
    "  \n",
    "    upper = 0\n",
    "    lower = 0\n",
    "  \n",
    "    for i in range(len(string)):\n",
    "          \n",
    "        \n",
    "        if (ord(string[i]) >= 97 and\n",
    "            ord(string[i]) <= 122):\n",
    "            lower += 1\n",
    "  \n",
    "       \n",
    "        elif (ord(string[i]) >= 65 and\n",
    "              ord(string[i]) <= 90):\n",
    "            upper += 1\n",
    "  \n",
    "    print('Lower case characters = %s' %lower,\n",
    "          'Upper case characters = %s' %upper)\n",
    "  \n",
    "\n",
    "string = 'Angli helnii Hicheel Orohgui Gesen'\n",
    "upperlower(string)"
   ]
  },
  {
   "cell_type": "code",
   "execution_count": 7,
   "id": "cc38c02b",
   "metadata": {},
   "outputs": [
    {
     "name": "stdout",
     "output_type": "stream",
     "text": [
      "162\n"
     ]
    }
   ],
   "source": [
    "#3\n",
    "x=[3,6,9,]\n",
    "def multiply(x):\n",
    "    multiply = 1\n",
    "    for i in range(3):\n",
    "        multiply = multiply * x[i]\n",
    "    print (multiply)\n",
    "multiply(x)\n",
    "        "
   ]
  },
  {
   "cell_type": "code",
   "execution_count": 8,
   "id": "5328e35a",
   "metadata": {},
   "outputs": [
    {
     "name": "stdout",
     "output_type": "stream",
     "text": [
      "Enter the number:9\n",
      "Factorial of 9 is 362880\n"
     ]
    }
   ],
   "source": [
    "#4\n",
    "import math  \n",
    "def fact(n):  \n",
    "    return(math.factorial(n))  \n",
    "  \n",
    "num = int(input(\"Enter the number:\"))  \n",
    "f = fact(num)  \n",
    "print(\"Factorial of\", num, \"is\", f)  "
   ]
  },
  {
   "cell_type": "code",
   "execution_count": 9,
   "id": "a4312fcd",
   "metadata": {},
   "outputs": [
    {
     "name": "stdout",
     "output_type": "stream",
     "text": [
      "[20, 30, 40, 50, 60]\n"
     ]
    }
   ],
   "source": [
    "#5\n",
    "\n",
    "def reverse(list):\n",
    "    return [ele for ele in reversed(list)]\n",
    "\n",
    "list = [60,50,40,30,20]\n",
    "print(reverse(list))"
   ]
  },
  {
   "cell_type": "code",
   "execution_count": 10,
   "id": "ba9f8ec8",
   "metadata": {},
   "outputs": [
    {
     "name": "stdout",
     "output_type": "stream",
     "text": [
      "listiin buh utgiig nemeh:  15\n"
     ]
    }
   ],
   "source": [
    "#6\n",
    "\n",
    "list = [1,2,3,4,5]\n",
    "total=sum(list)\n",
    "print(\"listiin buh utgiig nemeh: \", total)"
   ]
  },
  {
   "cell_type": "code",
   "execution_count": 11,
   "id": "c6231668",
   "metadata": {},
   "outputs": [
    {
     "name": "stdout",
     "output_type": "stream",
     "text": [
      "{'i', 'o', 'm', 'n'}\n"
     ]
    }
   ],
   "source": [
    "#7\n",
    "mylist = [\"n\", \"o\", \"m\", \"i\", \"n\",\"o\"]\n",
    "mylist = set(dict.fromkeys(mylist))\n",
    "print(mylist)"
   ]
  },
  {
   "cell_type": "code",
   "execution_count": 12,
   "id": "2ccce54d",
   "metadata": {},
   "outputs": [
    {
     "name": "stdout",
     "output_type": "stream",
     "text": [
      "25\n"
     ]
    }
   ],
   "source": [
    "#8\n",
    "\n",
    "def maximum(a, b, c):\n",
    "    list = [a, b, c]\n",
    "    return max(list)\n",
    "  \n",
    "\n",
    "a = 15\n",
    "b = 20\n",
    "c = 25\n",
    "print(maximum(a, b, c))"
   ]
  },
  {
   "cell_type": "code",
   "execution_count": null,
   "id": "2c06b6d2",
   "metadata": {},
   "outputs": [],
   "source": []
  }
 ],
 "metadata": {
  "kernelspec": {
   "display_name": "Python 3 (ipykernel)",
   "language": "python",
   "name": "python3"
  },
  "language_info": {
   "codemirror_mode": {
    "name": "ipython",
    "version": 3
   },
   "file_extension": ".py",
   "mimetype": "text/x-python",
   "name": "python",
   "nbconvert_exporter": "python",
   "pygments_lexer": "ipython3",
   "version": "3.9.7"
  }
 },
 "nbformat": 4,
 "nbformat_minor": 5
}
