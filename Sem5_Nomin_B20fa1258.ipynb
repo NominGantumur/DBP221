{
 "cells": [
  {
   "cell_type": "code",
   "execution_count": 7,
   "id": "485e8b18",
   "metadata": {},
   "outputs": [
    {
     "name": "stdout",
     "output_type": "stream",
     "text": [
      "6\n",
      "*\n",
      "**\n",
      "***\n",
      "****\n",
      "*****\n",
      "******\n"
     ]
    }
   ],
   "source": [
    "#1\n",
    "n = int(input())\n",
    "for i in range(0, n):\n",
    "    for j in range (0, i+1):\n",
    "        print(\"*\", end = \"\")\n",
    "    print(\"\\r\")"
   ]
  },
  {
   "cell_type": "code",
   "execution_count": 10,
   "id": "226d99bb",
   "metadata": {},
   "outputs": [
    {
     "name": "stdout",
     "output_type": "stream",
     "text": [
      "6\n",
      "*\n",
      "**\n",
      "***\n",
      "****\n",
      "*****\n",
      "******\n"
     ]
    }
   ],
   "source": [
    "#2\n",
    "n = int(input())\n",
    "for i in range(0, n):\n",
    "    for j in range (0, i+1):\n",
    "        print(\"*\", end = \"\")\n",
    "    print(\"\\r\")"
   ]
  },
  {
   "cell_type": "code",
   "execution_count": 22,
   "id": "dfe81123",
   "metadata": {},
   "outputs": [
    {
     "name": "stdout",
     "output_type": "stream",
     "text": [
      "( Oyun , Bat )\n"
     ]
    }
   ],
   "source": [
    "#3\n",
    "students = {\n",
    " 'Bat': 18,\n",
    " 'Oyun': 22,\n",
    " 'Dulam': 21,\n",
    " 'Suren': 20\n",
    "}\n",
    "\n",
    "print(\"(\", max(students, key=students.get),\",\", min(students, key=students.get),\")\")\n"
   ]
  },
  {
   "cell_type": "code",
   "execution_count": 25,
   "id": "ff5eb48d",
   "metadata": {},
   "outputs": [
    {
     "name": "stdout",
     "output_type": "stream",
     "text": [
      "214216\n"
     ]
    }
   ],
   "source": [
    "#4\n",
    "import numpy as np\n",
    "x = np.arange(1,1000) \n",
    "n= x[(x % 3 == 0) | (x % 7 == 0)]\n",
    "# print niilber\n",
    "print(n.sum())"
   ]
  }
 ],
 "metadata": {
  "kernelspec": {
   "display_name": "Python 3 (ipykernel)",
   "language": "python",
   "name": "python3"
  },
  "language_info": {
   "codemirror_mode": {
    "name": "ipython",
    "version": 3
   },
   "file_extension": ".py",
   "mimetype": "text/x-python",
   "name": "python",
   "nbconvert_exporter": "python",
   "pygments_lexer": "ipython3",
   "version": "3.9.7"
  }
 },
 "nbformat": 4,
 "nbformat_minor": 5
}
