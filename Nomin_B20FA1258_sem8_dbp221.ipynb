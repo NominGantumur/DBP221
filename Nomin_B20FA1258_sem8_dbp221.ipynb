{
 "cells": [
  {
   "cell_type": "code",
   "execution_count": 1,
   "id": "d5841088",
   "metadata": {},
   "outputs": [
    {
     "data": {
      "text/plain": [
       "19"
      ]
     },
     "execution_count": 1,
     "metadata": {},
     "output_type": "execute_result"
    }
   ],
   "source": [
    "#len ni ugugdsun object iin urtiig ni gargadag\n",
    "Nomin= \"Nomin sezisd surdag\"\n",
    "len(Nomin)"
   ]
  },
  {
   "cell_type": "code",
   "execution_count": 2,
   "id": "df7dab1e",
   "metadata": {},
   "outputs": [
    {
     "name": "stdout",
     "output_type": "stream",
     "text": [
      "nomin sezist surdag\n"
     ]
    }
   ],
   "source": [
    "#lower ni tom jijig holildson ogogdliig bugdiig ni jigd jijig usegtei bolgodog\n",
    "Nomin= 'NoMiN SeZiSt SuRdAg'\n",
    "print(Nomin.lower())"
   ]
  },
  {
   "cell_type": "code",
   "execution_count": 5,
   "id": "857acb5d",
   "metadata": {},
   "outputs": [
    {
     "name": "stdout",
     "output_type": "stream",
     "text": [
      "Nomin Narand durtai!\n"
     ]
    }
   ],
   "source": [
    "#translate ni tuhain ugugdliig ogson utgaar ni solidog esvel dictionary deh utgaar solidog\n",
    "nomin = \"Nomin Sarand durtai!\"\n",
    "mytable = nomin.maketrans(\"S\", \"N\")\n",
    "print(nomin.translate(mytable))"
   ]
  },
  {
   "cell_type": "code",
   "execution_count": 6,
   "id": "8a3fd04c",
   "metadata": {},
   "outputs": [
    {
     "name": "stdout",
     "output_type": "stream",
     "text": [
      "True\n",
      "False\n"
     ]
    }
   ],
   "source": [
    "#islower tuhain utga bugd jijig usegtei bol true gej gargana herev tom useg orson baival false gedeg\n",
    "nomin= 'nomin nom unshih durtai'\n",
    "print(nomin.islower())\n",
    "\n",
    "nomin= 'nomin Delguur heseh durtai'\n",
    "print(nomin.islower())"
   ]
  },
  {
   "cell_type": "code",
   "execution_count": 7,
   "id": "07a6d8cb",
   "metadata": {},
   "outputs": [
    {
     "name": "stdout",
     "output_type": "stream",
     "text": [
      "cherry    bol minii durtai jims ymaa\n"
     ]
    }
   ],
   "source": [
    "#ljust ugsun utgaas ogogdson toonii hemjee avdag ym baina, esvel zai avdag ym baina\n",
    "nomin= \"cherry\"\n",
    "x= nomin.ljust(9)\n",
    "print(x, \"bol minii durtai jims ymaa\")"
   ]
  },
  {
   "cell_type": "code",
   "execution_count": 8,
   "id": "9592f2e1",
   "metadata": {},
   "outputs": [
    {
     "name": "stdout",
     "output_type": "stream",
     "text": [
      "GOY HOOL IDEH YMSAAN\n"
     ]
    }
   ],
   "source": [
    "#upper() utgiin buh usgiin tom bolgono\n",
    "nomin=\"Goy hool ideh ymsaan\"\n",
    "x= nomin.upper()\n",
    "print(x)"
   ]
  },
  {
   "cell_type": "code",
   "execution_count": 10,
   "id": "6a7f03d2",
   "metadata": {},
   "outputs": [
    {
     "name": "stdout",
     "output_type": "stream",
     "text": [
      "True\n"
     ]
    }
   ],
   "source": [
    "#startswith() ogson utgaar ni ehelj baival ur dun ni true gej garj irne\n",
    "nomin=\"Ogloo ert bosoh ni biyd tustai\"\n",
    "print(nomin.startswith('Ogloo'))"
   ]
  },
  {
   "cell_type": "code",
   "execution_count": 12,
   "id": "2f5f7497",
   "metadata": {},
   "outputs": [
    {
     "name": "stdout",
     "output_type": "stream",
     "text": [
      "True\n"
     ]
    }
   ],
   "source": [
    "#isupper buh utguud ni tom useg bval true ur dun garna jijig useg bval false garna\n",
    "nomin= \"LANA DEL RAY DUUNUUD GOY\"\n",
    "x= nomin.isupper()\n",
    "print(x)"
   ]
  },
  {
   "cell_type": "code",
   "execution_count": 20,
   "id": "e58b7298",
   "metadata": {},
   "outputs": [
    {
     "name": "stdout",
     "output_type": "stream",
     "text": [
      "IIIIIIIIIIIIIIIIlove youu\n"
     ]
    }
   ],
   "source": [
    "#rjust hooson baigaa zaig ugugdsun utgaar bugludug \n",
    "nomin=\"love youu\"\n",
    "x= nomin.rjust(25, \"I\")\n",
    "print(x)"
   ]
  },
  {
   "cell_type": "code",
   "execution_count": 22,
   "id": "bc0dfc4e",
   "metadata": {},
   "outputs": [
    {
     "name": "stdout",
     "output_type": "stream",
     "text": [
      "8\n"
     ]
    }
   ],
   "source": [
    "#find ni ol gesen utgiin hamgiin ehnii utgiin toog gargadag\n",
    "nomin=\"Sain uu amidral dajgui yu\"\n",
    "x= nomin.find(\"amidral\")\n",
    "print(x)"
   ]
  },
  {
   "cell_type": "code",
   "execution_count": 24,
   "id": "c059dd20",
   "metadata": {},
   "outputs": [
    {
     "name": "stdout",
     "output_type": "stream",
     "text": [
      "True\n"
     ]
    }
   ],
   "source": [
    "#endswith  ni ogson utgaar tuhain ogogdol ni duusch baival true gsen ur dun gargana\n",
    "nomin= \"Hodoo gantsaaraa aylah ymsan\"\n",
    "x= nomin.endswith(\"ymsan\")\n",
    "print(x)\n"
   ]
  },
  {
   "cell_type": "code",
   "execution_count": 26,
   "id": "d4b34d19",
   "metadata": {},
   "outputs": [
    {
     "name": "stdout",
     "output_type": "stream",
     "text": [
      "True\n"
     ]
    }
   ],
   "source": [
    "#isnumeric ugugdsun utga 0-9 aguulagddag too baival true gsn utga gargadag (useg baival false)\n",
    "nomin=\"9999999\"\n",
    "x= nomin.isnumeric()\n",
    "print(x)"
   ]
  },
  {
   "cell_type": "code",
   "execution_count": 28,
   "id": "1aa52dec",
   "metadata": {},
   "outputs": [
    {
     "name": "stdout",
     "output_type": "stream",
     "text": [
      "      keep it happy      \n"
     ]
    }
   ],
   "source": [
    "#center ugsun utgaar zai avdag \n",
    "nomin=\"keep it happy\"\n",
    "x= nomin.center(25)\n",
    "print(x)"
   ]
  },
  {
   "cell_type": "code",
   "execution_count": 29,
   "id": "24d6a0f1",
   "metadata": {},
   "outputs": [
    {
     "name": "stdout",
     "output_type": "stream",
     "text": [
      "17\n"
     ]
    }
   ],
   "source": [
    "#rfind hai gesen utgiin suuliin usegnii too\n",
    "nomin=\"C buffetnii hool goy\"\n",
    "x= nomin.rfind(\"goy\")\n",
    "print(x)"
   ]
  },
  {
   "cell_type": "code",
   "execution_count": 38,
   "id": "b1d1a385",
   "metadata": {},
   "outputs": [
    {
     "name": "stdout",
     "output_type": "stream",
     "text": [
      "chiherleg\n"
     ]
    }
   ],
   "source": [
    "#get  zaasan utganii ogogdliig ylgaj haruuldag\n",
    "BubbleTea= {\n",
    "    \"torol\": \"Guzeelzgene\" ,\n",
    "    \"amt\" : \"chiherleg\" ,\n",
    "    \"une\" : 8900\n",
    "}\n",
    "x = BubbleTea.get(\"amt\")\n",
    "print(x)"
   ]
  },
  {
   "cell_type": "code",
   "execution_count": 39,
   "id": "6621b935",
   "metadata": {},
   "outputs": [
    {
     "name": "stdout",
     "output_type": "stream",
     "text": [
      "False\n"
     ]
    }
   ],
   "source": [
    "#isalnum herev buh utga ni useg baival true gesen utga gargadag\n",
    "Nomin= \"Noni9\"\n",
    "x= nomin.isalnum()\n",
    "print(x)"
   ]
  },
  {
   "cell_type": "code",
   "execution_count": 41,
   "id": "50db787c",
   "metadata": {},
   "outputs": [
    {
     "name": "stdout",
     "output_type": "stream",
     "text": [
      "True\n"
     ]
    }
   ],
   "source": [
    "#isdecimal buh utga ni aravt 0-9 hoorond baival true\n",
    "nomin= \"\\u0033\" \n",
    "x= nomin.isdecimal()\n",
    "print(x)"
   ]
  },
  {
   "cell_type": "code",
   "execution_count": 42,
   "id": "e98c48f5",
   "metadata": {},
   "outputs": [
    {
     "name": "stdout",
     "output_type": "stream",
     "text": [
      "000000000000000000000000000000000000000000000000000000000000000000000000000000000000000000000099\n"
     ]
    }
   ],
   "source": [
    "#zfill ugugdsun urtad hureh hurtlee 0 gargadag\n",
    "nomin=\"99\"\n",
    "x =nomin.zfill(96)\n",
    "print(x)"
   ]
  },
  {
   "cell_type": "code",
   "execution_count": 48,
   "id": "fb5b8900",
   "metadata": {},
   "outputs": [
    {
     "name": "stdout",
     "output_type": "stream",
     "text": [
      "2\n"
     ]
    }
   ],
   "source": [
    "#index ni zaasan utgiin ehnii tohioldliin bairlaliig butsaana\n",
    "nomin=['hicheel','bas','dahin','hicheel']\n",
    "x= nomin.index(\"dahin\")\n",
    "print(x)"
   ]
  },
  {
   "cell_type": "code",
   "execution_count": 50,
   "id": "d5eee78f",
   "metadata": {},
   "outputs": [
    {
     "name": "stdout",
     "output_type": "stream",
     "text": [
      "False\n"
     ]
    }
   ],
   "source": [
    "#isalpha a-z useg oroogu ugugdliig false gene\n",
    "Nomin = \"Nomin99\"\n",
    "\n",
    "x = Nomin.isalpha()\n",
    "\n",
    "print(x)"
   ]
  },
  {
   "cell_type": "code",
   "execution_count": 51,
   "id": "2d969bc3",
   "metadata": {},
   "outputs": [
    {
     "name": "stdout",
     "output_type": "stream",
     "text": [
      "['nomingiin', 'yrtontsod', 'tavtai', 'moril']\n"
     ]
    }
   ],
   "source": [
    "#split utguudiig salgan tus tusad ni bolgodog\n",
    "nomin=\"nomingiin yrtontsod tavtai moril\"\n",
    "x= nomin.split()\n",
    "print(x)"
   ]
  },
  {
   "cell_type": "code",
   "execution_count": 54,
   "id": "85f75d8b",
   "metadata": {},
   "outputs": [
    {
     "name": "stdout",
     "output_type": "stream",
     "text": [
      "alimnaas iluu cherry  ni minii durtai jims\n"
     ]
    }
   ],
   "source": [
    "#strip ehend bolon togsgold tuhain 2 iig oruulna gold ni ogson utgaa oruulna\n",
    "nomin=\"    cherry     \"\n",
    "x= nomin.strip()\n",
    "print(\"alimnaas iluu\", x, \" ni minii durtai jims\")"
   ]
  },
  {
   "cell_type": "code",
   "execution_count": 55,
   "id": "a39c6ec3",
   "metadata": {},
   "outputs": [
    {
     "name": "stdout",
     "output_type": "stream",
     "text": [
      "8\n"
     ]
    }
   ],
   "source": [
    "#rindex tuhian utgiin ogogdson utgiin ehnii usgiin baigaa too goy iin g useg ni utgiin 8 dah utga\n",
    "\n",
    "nomin=\"Onoodor goy odor\"\n",
    "x= nomin.rindex(\"goy\")\n",
    "print(x)"
   ]
  },
  {
   "cell_type": "code",
   "execution_count": 57,
   "id": "16df5342",
   "metadata": {},
   "outputs": [
    {
     "name": "stdout",
     "output_type": "stream",
     "text": [
      "True\n"
     ]
    }
   ],
   "source": [
    "#isdigit utga bugd too baival true herev too bish baival false\n",
    "nomin=\"99999\"\n",
    "x= nomin.isdigit()\n",
    "print(x)"
   ]
  },
  {
   "cell_type": "code",
   "execution_count": 63,
   "id": "9d6e901e",
   "metadata": {},
   "outputs": [
    {
     "name": "stdout",
     "output_type": "stream",
     "text": [
      "['sezisiin,', '2', 'kursiin,', 'oyutan']\n"
     ]
    }
   ],
   "source": [
    "#rsplit tus tusad ni list bolgon salgadag\n",
    "nomin= \"sezisiin, 2 kursiin, oyutan\"\n",
    "x= nomin.rsplit()\n",
    "print(x)\n"
   ]
  },
  {
   "cell_type": "code",
   "execution_count": 65,
   "id": "efad87f5",
   "metadata": {},
   "outputs": [
    {
     "name": "stdout",
     "output_type": "stream",
     "text": [
      "alimnaas iluu     cherry  ni minii durtai jims\n"
     ]
    }
   ],
   "source": [
    "#rstrip string iin togsgold bgaa zaig ustgadag\n",
    "nomin=\"    cherry     \"\n",
    "x= nomin.rstrip()\n",
    "print(\"alimnaas iluu\", x, \" ni minii durtai jims\")"
   ]
  },
  {
   "cell_type": "code",
   "execution_count": 69,
   "id": "9f2adaaf",
   "metadata": {},
   "outputs": [
    {
     "name": "stdout",
     "output_type": "stream",
     "text": [
      "Onoodor, goy odor\n"
     ]
    }
   ],
   "source": [
    "#capitalize ehnii utgiin usgiig tom bolgodog\n",
    "nomin=\"onoodor, goy odor\"\n",
    "x= nomin.capitalize()\n",
    "print(x)"
   ]
  },
  {
   "cell_type": "code",
   "execution_count": 70,
   "id": "aedb32e3",
   "metadata": {},
   "outputs": [
    {
     "name": "stdout",
     "output_type": "stream",
     "text": [
      "True\n"
     ]
    }
   ],
   "source": [
    "#isspace texted baigaa buh utga zai baival true\n",
    "nomin= \"     \"\n",
    "x= nomin.isspace()\n",
    "print(x)"
   ]
  },
  {
   "cell_type": "code",
   "execution_count": 75,
   "id": "cb21de08",
   "metadata": {},
   "outputs": [
    {
     "name": "stdout",
     "output_type": "stream",
     "text": [
      "('Bi uran zohioliin ', 'nom', 'ond durtai')\n"
     ]
    }
   ],
   "source": [
    "#partition 3 ni element bolgon butsaadag ogson ogogdliig omnoh urdah utgiig tusgaarlan gurvan utga bolgono\n",
    "nomin= \"Bi uran zohioliin nomond durtai\"\n",
    "x= nomin.partition(\"nom\")\n",
    "print(x)"
   ]
  },
  {
   "cell_type": "code",
   "execution_count": 76,
   "id": "806a565e",
   "metadata": {},
   "outputs": [
    {
     "name": "stdout",
     "output_type": "stream",
     "text": [
      "alimnaas iluu cherry       ni minii durtai jims\n"
     ]
    }
   ],
   "source": [
    "#lstrip string iin zuun taliin zaig baihgu bolgodog\n",
    "nomin=\"    cherry     \"\n",
    "x= nomin.lstrip()\n",
    "print(\"alimnaas iluu\", x, \" ni minii durtai jims\")"
   ]
  },
  {
   "cell_type": "code",
   "execution_count": 79,
   "id": "3625edbd",
   "metadata": {},
   "outputs": [
    {
     "name": "stdout",
     "output_type": "stream",
     "text": [
      "bE hAPPy\n"
     ]
    }
   ],
   "source": [
    "#swapcase tom baisan useg jijig bolood, jijig ni tom bolno\n",
    "nomin=\"Be HappY\"\n",
    "x= nomin.swapcase()\n",
    "print(x)"
   ]
  },
  {
   "cell_type": "code",
   "execution_count": 81,
   "id": "596585b4",
   "metadata": {},
   "outputs": [
    {
     "name": "stdout",
     "output_type": "stream",
     "text": [
      "False\n"
     ]
    }
   ],
   "source": [
    "#istitle herev buh utga tom baival true jijig useg holildson baival false utga gargana\n",
    "nomin=\"Be HappY\"\n",
    "x= nomin.istitle()\n",
    "print(x)"
   ]
  },
  {
   "cell_type": "code",
   "execution_count": 83,
   "id": "9b3a9e01",
   "metadata": {},
   "outputs": [
    {
     "name": "stdout",
     "output_type": "stream",
     "text": [
      "('Bi uran zohioliin ', 'nomond', ' durtai')\n"
     ]
    }
   ],
   "source": [
    "#rpartition zaasan moriin suuliin tohioldliig haij, moriig gurvan element aguulsan hesegt huvaana\n",
    "nomin= \"Bi uran zohioliin nomond durtai\"\n",
    "x= nomin.rpartition(\"nomond\")\n",
    "print(x)"
   ]
  },
  {
   "cell_type": "code",
   "execution_count": null,
   "id": "7ac7400a",
   "metadata": {},
   "outputs": [],
   "source": []
  }
 ],
 "metadata": {
  "kernelspec": {
   "display_name": "Python 3 (ipykernel)",
   "language": "python",
   "name": "python3"
  },
  "language_info": {
   "codemirror_mode": {
    "name": "ipython",
    "version": 3
   },
   "file_extension": ".py",
   "mimetype": "text/x-python",
   "name": "python",
   "nbconvert_exporter": "python",
   "pygments_lexer": "ipython3",
   "version": "3.9.7"
  }
 },
 "nbformat": 4,
 "nbformat_minor": 5
}
