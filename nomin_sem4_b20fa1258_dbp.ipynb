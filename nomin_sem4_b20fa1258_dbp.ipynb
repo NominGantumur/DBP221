{
 "cells": [
  {
   "cell_type": "code",
   "execution_count": 10,
   "id": "9973df8f",
   "metadata": {},
   "outputs": [
    {
     "data": {
      "text/plain": [
       "array([50, 51, 52, 53, 54, 55, 56, 57, 58, 59, 60, 61, 62, 63, 64, 65, 66,\n",
       "       67, 68, 69, 70, 71, 72, 73, 74, 75, 76, 77, 78, 79, 80, 81, 82, 83,\n",
       "       84, 85, 86, 87, 88, 89, 90, 91, 92, 93, 94, 95, 96, 97, 98, 99])"
      ]
     },
     "execution_count": 10,
     "metadata": {},
     "output_type": "execute_result"
    }
   ],
   "source": [
    "#1\n",
    "import numpy as np\n",
    "array = np.arange(50,100)\n",
    "array"
   ]
  },
  {
   "cell_type": "code",
   "execution_count": 5,
   "id": "2fa1de71",
   "metadata": {},
   "outputs": [
    {
     "name": "stdout",
     "output_type": "stream",
     "text": [
      "[0. 0. 0. 0. 0. 0. 0. 0. 0. 0.]\n"
     ]
    }
   ],
   "source": [
    "#2 arvan shirheg 0\n",
    "import numpy as np\n",
    "x=np.zeros(10)\n",
    "print(x)"
   ]
  },
  {
   "cell_type": "code",
   "execution_count": 6,
   "id": "e123e2e8",
   "metadata": {},
   "outputs": [
    {
     "name": "stdout",
     "output_type": "stream",
     "text": [
      "[1. 1. 1. 1. 1. 1. 1. 1. 1. 1.]\n"
     ]
    }
   ],
   "source": [
    "#2 arvan shirheg 1\n",
    "import numpy as np\n",
    "x=np.ones(10)\n",
    "print(x)"
   ]
  },
  {
   "cell_type": "code",
   "execution_count": 9,
   "id": "e105be2d",
   "metadata": {},
   "outputs": [
    {
     "name": "stdout",
     "output_type": "stream",
     "text": [
      "[6. 6. 6. 6. 6. 6. 6. 6. 6. 6.]\n"
     ]
    }
   ],
   "source": [
    "#2 arvan shirheg 6\n",
    "import numpy as np\n",
    "x=np.zeros(10)+6\n",
    "print(x)"
   ]
  },
  {
   "cell_type": "code",
   "execution_count": 12,
   "id": "ab1475d2",
   "metadata": {},
   "outputs": [
    {
     "name": "stdout",
     "output_type": "stream",
     "text": [
      "[[20 21 22 23]\n",
      " [24 25 26 27]\n",
      " [28 29 30 31]]\n"
     ]
    }
   ],
   "source": [
    "#3 \n",
    "data1= np.arange(20,32)\n",
    "a= np.reshape(data1,(3,4))\n",
    "print(a)\n"
   ]
  },
  {
   "cell_type": "code",
   "execution_count": 21,
   "id": "52b9e78f",
   "metadata": {},
   "outputs": [
    {
     "name": "stdout",
     "output_type": "stream",
     "text": [
      "[[1. 0. 0.]\n",
      " [0. 1. 0.]\n",
      " [0. 0. 1.]]\n"
     ]
    }
   ],
   "source": [
    "#4\n",
    "import numpy as np\n",
    "x = np.eye(3)\n",
    "print(x)"
   ]
  },
  {
   "cell_type": "code",
   "execution_count": 25,
   "id": "43a51e83",
   "metadata": {},
   "outputs": [
    {
     "name": "stdout",
     "output_type": "stream",
     "text": [
      "[[1 0 0 0 0]\n",
      " [0 2 0 0 0]\n",
      " [0 0 3 0 0]\n",
      " [0 0 0 4 0]\n",
      " [0 0 0 0 5]]\n"
     ]
    }
   ],
   "source": [
    "#5\n",
    "import numpy as np\n",
    "x = np.diag([1, 2, 3, 4, 5])\n",
    "print(x)"
   ]
  },
  {
   "cell_type": "code",
   "execution_count": 8,
   "id": "9d5cb2c3",
   "metadata": {},
   "outputs": [
    {
     "name": "stdout",
     "output_type": "stream",
     "text": [
      "90\n",
      "[13 17 26 34]\n",
      "[16 54 20]\n"
     ]
    }
   ],
   "source": [
    "#6\n",
    "import numpy as np\n",
    "b = np.array([[1,3,5,7],[9,12,15,18],[3,2,6,9]])\n",
    "print(sum(sum(b)))\n",
    "print(b.sum(axis=0))\n",
    "print(b.sum(axis=1))"
   ]
  },
  {
   "cell_type": "code",
   "execution_count": 68,
   "id": "c6d62bb9",
   "metadata": {},
   "outputs": [],
   "source": [
    "#7\n",
    "import numpy as np \n",
    "\n",
    "#seasons\n",
    "Seasons = [\"2012\",\"2013\",\"2014\",\"2015\",\"2016\",\"2017\",\"2018\",\"2019\",\"2020\",\"2021\"]\n",
    "Sdict = {\"2012\":7,\"2013\":8,\"2014\":9, \"2015\":10,\"2016\":11,\"2017\":12,\"2018\":13,\"2019\":14,\"2020\":15,\"2021\":16}\n",
    "\n",
    "#Players\n",
    "Players = [\"KobeBryant\",\"JoeJohnson\",\"LeBronJames\",\"CarmeloAnthony\",\"DwightHoward\",\"ChrisBosh\",\"ChrisPaul\"]\n",
    "Pdict = {\"KobeBryant\":0,\"JoeJohnson\":1,\"LeBronJames\":2,\"CarmeloAnthony\":3,\"DwightHoward\":4,\"ChrisBosh\":5,\"ChrisPaul\":6}\n",
    "\n",
    "#Salaries\n",
    "KobeBryant_Salary = [27849149,30453805,23500000,25000000,0,0,0,0,0,0]\n",
    "JoeJohnson_Salary = [19752645,21466718,23180790,22309344,11000000,10254904,0,2564753,151821,0]\n",
    "LeBronJames_Salary = [17545000,19067500,20644400,22970500,30963450,33285709,35654150,37436858,39219566,41180544]\n",
    "CarmeloAnthony_Salary = [19450000,22407474,22458000,22875000,24559380,26243760,2393887,2159029,2564753,2641691]\n",
    "DwightHoward_Salary = [19536360,20513178,21436271,22359364,23500000,23500000,18919725,24256725,2564753,2641691]\n",
    "ChrisBosh_Salary = [17545000,19067500,20644400,22192730,23741060,25289390,26837720,0,0,0]\n",
    "ChrisPaul_Salary = [17779458,18668431,20068563,21468695,22868827,24268959,35654150,38506482,41358814,30800000]\n",
    "#Matrix\n",
    "Salary = np.array([KobeBryant_Salary, JoeJohnson_Salary, LeBronJames_Salary, CarmeloAnthony_Salary, DwightHoward_Salary, ChrisBosh_Salary, ChrisPaul_Salary])\n",
    "\n",
    "#Games \n",
    "KobeBryant_G = [78,6,35,66,0,0,0,0,0,0]\n",
    "JoeJohnson_G = [72,79,80,81,24,57,78,55,0,0]\n",
    "LeBronJames_G = [76,77,69,76,74,82,55,67,45,48]\n",
    "CarmeloAnthony_G = [67,77,40,72,74,78,10,58,69,58]\n",
    "DwightHoward_G = [76,71,41,71,74,81,9,69,69,47]\n",
    "ChrisBosh_G = [74,79,44,53,0,0,0,0,0,0]\n",
    "ChrisPaul_G = [70,62,82,74,61,58,58,70,70,58]  \n",
    "#Matrix\n",
    "Games = np.array([KobeBryant_G, JoeJohnson_G, LeBronJames_G, CarmeloAnthony_G, DwightHoward_G, ChrisBosh_G, ChrisPaul_G])\n",
    "\n",
    "#Field Goals\n",
    "KobeBryant_FG = [738,31,266,398,0,0,0,0,0,0]\n",
    "JoeJohnson_FG = [445,462,446,377,247,130,273,95,51,1]\n",
    "LeBronJames_FG = [765,767,624,737,736,857,558,643,422,556]\n",
    "CarmeloAnthony_FG = [669,743,358,567,602,472,49,336,327,270]\n",
    "DwightHoward_FG = [470,473,251,372,388,506,43,202,178,91]\n",
    "ChrisBosh_FG = [485,492,343,358,0,0,0,0,0,0]\n",
    "ChrisPaul_FG = [412,406,568,515,374,367,302,434,439,325]\n",
    "#Matrix\n",
    "FieldGoals  = np.array([KobeBryant_FG, JoeJohnson_FG, LeBronJames_FG, CarmeloAnthony_FG, DwightHoward_FG, ChrisBosh_FG, ChrisPaul_FG])"
   ]
  },
  {
   "cell_type": "code",
   "execution_count": 53,
   "id": "ecbb63e2",
   "metadata": {},
   "outputs": [
    {
     "name": "stdout",
     "output_type": "stream",
     "text": [
      "Salary Baganiin niilber =  [139457612 151644606 151932424 159175633 136632717 142842722 119459632\n",
      " 104923847  85859707  77263926]\n",
      "Salary Moriin niilber =  [106802954 110680975 297967677 147752974 179228067 155317800 271442379]\n"
     ]
    }
   ],
   "source": [
    "# 7 salary\n",
    "print(\"Salary Baganiin niilber = \", Salary.sum(axis=0))\n",
    "print(\"Salary Moriin niilber = \", Salary.sum(axis=1))"
   ]
  },
  {
   "cell_type": "code",
   "execution_count": 69,
   "id": "9bbd7c8b",
   "metadata": {},
   "outputs": [
    {
     "name": "stdout",
     "output_type": "stream",
     "text": [
      "Games Baganiin niilber =  [513 451 391 493 307 356 210 319 253 211]\n",
      "Games Moriin niilber =  [185 526 669 603 608 250 663]\n"
     ]
    }
   ],
   "source": [
    "#7 games\n",
    "print(\"Games Baganiin niilber = \", Games.sum(axis=0))\n",
    "print(\"Games Moriin niilber = \", Games.sum(axis=1))"
   ]
  },
  {
   "cell_type": "code",
   "execution_count": 70,
   "id": "82d79e64",
   "metadata": {},
   "outputs": [
    {
     "name": "stdout",
     "output_type": "stream",
     "text": [
      "FieldGoals Baganiin niilber =  [3984 3374 2856 3324 2347 2332 1225 1710 1417 1243]\n",
      "FieldGoals Moriin niilber =  [1433 2527 6665 4393 2974 1678 4142]\n"
     ]
    }
   ],
   "source": [
    "# 7 FieldGoals \n",
    "print(\"FieldGoals Baganiin niilber = \", FieldGoals.sum(axis=0))\n",
    "print(\"FieldGoals Moriin niilber = \", FieldGoals.sum(axis=1))"
   ]
  },
  {
   "cell_type": "code",
   "execution_count": null,
   "id": "8febf82e",
   "metadata": {},
   "outputs": [],
   "source": []
  }
 ],
 "metadata": {
  "kernelspec": {
   "display_name": "Python 3 (ipykernel)",
   "language": "python",
   "name": "python3"
  },
  "language_info": {
   "codemirror_mode": {
    "name": "ipython",
    "version": 3
   },
   "file_extension": ".py",
   "mimetype": "text/x-python",
   "name": "python",
   "nbconvert_exporter": "python",
   "pygments_lexer": "ipython3",
   "version": "3.9.7"
  }
 },
 "nbformat": 4,
 "nbformat_minor": 5
}
